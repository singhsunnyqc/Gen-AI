{
  "nbformat": 4,
  "nbformat_minor": 0,
  "metadata": {
    "colab": {
      "provenance": [],
      "gpuType": "T4"
    },
    "kernelspec": {
      "name": "python3",
      "display_name": "Python 3"
    },
    "language_info": {
      "name": "python"
    },
    "accelerator": "GPU"
  },
  "cells": [
    {
      "cell_type": "markdown",
      "source": [
        "# What is a Tensor?\n",
        "\n",
        "A tensor is a generalization of vectors and matrices to potentially higher dimensions, see the Table below. Internally, TensorFlow represents tensors as n-dimensional arrays of base datatypes. Each element in the Tensor has the same data type, and the data type is always known. Simply, tensor, in relation to machine learning, is a generalization of scalars, vectors and, matrices.\n",
        "<br><br>\n",
        "<center>\n",
        "<img src= \"https://cdn.iisc.talentsprint.com/AIandMLOps/Images/Intro_tensor.png\" width=700px/>\n",
        "</center>\n"
      ],
      "metadata": {
        "id": "uBnPB8kW-Uj3"
      }
    },
    {
      "cell_type": "code",
      "source": [
        "!pip install torch"
      ],
      "metadata": {
        "colab": {
          "base_uri": "https://localhost:8080/"
        },
        "id": "cJc4WmIg6oOl",
        "outputId": "b64b1579-a022-4d0f-8141-5e562e03de45"
      },
      "execution_count": null,
      "outputs": [
        {
          "output_type": "stream",
          "name": "stdout",
          "text": [
            "Requirement already satisfied: torch in /usr/local/lib/python3.10/dist-packages (2.1.0+cu118)\n",
            "Requirement already satisfied: filelock in /usr/local/lib/python3.10/dist-packages (from torch) (3.13.1)\n",
            "Requirement already satisfied: typing-extensions in /usr/local/lib/python3.10/dist-packages (from torch) (4.5.0)\n",
            "Requirement already satisfied: sympy in /usr/local/lib/python3.10/dist-packages (from torch) (1.12)\n",
            "Requirement already satisfied: networkx in /usr/local/lib/python3.10/dist-packages (from torch) (3.2.1)\n",
            "Requirement already satisfied: jinja2 in /usr/local/lib/python3.10/dist-packages (from torch) (3.1.2)\n",
            "Requirement already satisfied: fsspec in /usr/local/lib/python3.10/dist-packages (from torch) (2023.6.0)\n",
            "Requirement already satisfied: triton==2.1.0 in /usr/local/lib/python3.10/dist-packages (from torch) (2.1.0)\n",
            "Requirement already satisfied: MarkupSafe>=2.0 in /usr/local/lib/python3.10/dist-packages (from jinja2->torch) (2.1.3)\n",
            "Requirement already satisfied: mpmath>=0.19 in /usr/local/lib/python3.10/dist-packages (from sympy->torch) (1.3.0)\n"
          ]
        }
      ]
    },
    {
      "cell_type": "code",
      "source": [
        "import torch\n",
        "# Create a 3-dimensional tensor with random values from a uniform distribution\n",
        "random_tensor = torch.rand(2, 3, 4)\n",
        "print(random_tensor)"
      ],
      "metadata": {
        "colab": {
          "base_uri": "https://localhost:8080/"
        },
        "id": "APr5Upbcgoqg",
        "outputId": "3dfbd57f-aa6b-4115-ada4-d5fe5cbbafb9"
      },
      "execution_count": null,
      "outputs": [
        {
          "output_type": "stream",
          "name": "stdout",
          "text": [
            "tensor([[[5.8663e-04, 4.6974e-01, 9.4295e-03, 3.3962e-01],\n",
            "         [7.0443e-01, 6.2047e-01, 7.2292e-01, 6.2398e-01],\n",
            "         [5.3263e-01, 2.3369e-01, 8.8927e-01, 3.7171e-01]],\n",
            "\n",
            "        [[6.5798e-01, 6.6711e-01, 7.4737e-01, 7.6948e-01],\n",
            "         [9.8122e-01, 1.8703e-01, 2.0808e-01, 1.2864e-01],\n",
            "         [5.2671e-01, 2.6365e-01, 6.2520e-01, 4.5892e-01]]])\n"
          ]
        }
      ]
    },
    {
      "cell_type": "markdown",
      "source": [
        "## Basic Mathematical Operations on Tensors\n",
        "\n",
        "\n"
      ],
      "metadata": {
        "id": "BNm9-Gg_tgHo"
      }
    },
    {
      "cell_type": "markdown",
      "source": [
        "\n",
        "💥 Addition: Adds corresponding elements of tensors together, allowing for combining information or increasing values.\n",
        "\n",
        "💥 Subtraction: Subtracts corresponding elements of tensors, useful for computing differences or detecting changes.\n",
        "\n",
        "💥 Multiplication: Performs element-wise multiplication of tensors, enabling scaling or emphasizing certain features.\n",
        "To perform matrix like multiplication of tensors: torch.matmul(tensor1, tensor2)\n",
        "\n",
        "💥 Division: Divides corresponding elements of tensors, useful for normalization or finding relative proportions."
      ],
      "metadata": {
        "id": "FnWO5BDFF0U-"
      }
    },
    {
      "cell_type": "code",
      "source": [
        "import torch\n",
        "# Create a base tensor\n",
        "base_tensor = torch. tensor ([[1, 2], [3,4]])\n",
        "# Create another tensor\n",
        "second_tensor = torch.tensor ([[2, 2], [1,1]])\n",
        "# Addition\n",
        "addition_tensor = base_tensor + second_tensor\n",
        "print(\"Addition: \\\\n\", addition_tensor)\n",
        "# Subtraction\n",
        "subtraction_tensor = base_tensor - second_tensor\n",
        "print(\"Subtraction: \\\\n\", subtraction_tensor)\n",
        "# Multiplication\n",
        "multiplication_tensor = base_tensor * second_tensor\n",
        "print(\"Multiplication: \\\\n\", multiplication_tensor)\n",
        "# Division\n",
        "division_tensor = base_tensor / second_tensor\n",
        "print(\"Division: In\", division_tensor)\n"
      ],
      "metadata": {
        "colab": {
          "base_uri": "https://localhost:8080/"
        },
        "id": "FHUisZwctrd7",
        "outputId": "5d620927-5055-4a68-ca82-789e13d37347"
      },
      "execution_count": null,
      "outputs": [
        {
          "output_type": "stream",
          "name": "stdout",
          "text": [
            "Addition: \\n tensor([[3, 4],\n",
            "        [4, 5]])\n",
            "Subtraction: \\n tensor([[-1,  0],\n",
            "        [ 2,  3]])\n",
            "Multiplication: \\n tensor([[2, 4],\n",
            "        [3, 4]])\n",
            "Division: In tensor([[0.5000, 1.0000],\n",
            "        [3.0000, 4.0000]])\n"
          ]
        }
      ]
    },
    {
      "cell_type": "markdown",
      "source": [
        "## Tensor indexing and slicing"
      ],
      "metadata": {
        "id": "ymAddp0-t_72"
      }
    },
    {
      "cell_type": "code",
      "source": [
        "import torch\n",
        "# Create a tensor with size (2, 3, 3)\n",
        "tensor = torch.tensor ([\n",
        "\t[[1, 2, 3], [4, 5, 6], [7, 8, 9]],\n",
        "\t[[10, 11, 12], [13, 14, 15],[16, 17,18]]\n",
        "])\n",
        "print (\"Original Tensor:\")\n",
        "print (tensor)\n",
        "print(\"\\\\nTensor Shape:\", tensor.shape)\n"
      ],
      "metadata": {
        "colab": {
          "base_uri": "https://localhost:8080/"
        },
        "id": "7KWgPlimuFxK",
        "outputId": "9df58c46-f369-4652-dd5e-11af409cacdd"
      },
      "execution_count": null,
      "outputs": [
        {
          "output_type": "stream",
          "name": "stdout",
          "text": [
            "Original Tensor:\n",
            "tensor([[[ 1,  2,  3],\n",
            "         [ 4,  5,  6],\n",
            "         [ 7,  8,  9]],\n",
            "\n",
            "        [[10, 11, 12],\n",
            "         [13, 14, 15],\n",
            "         [16, 17, 18]]])\n",
            "\\nTensor Shape: torch.Size([2, 3, 3])\n"
          ]
        }
      ]
    },
    {
      "cell_type": "markdown",
      "source": [
        "### Row Slice (Slice of the second row)"
      ],
      "metadata": {
        "id": "fIsmhVOTuM3N"
      }
    },
    {
      "cell_type": "code",
      "source": [
        "# Row Slice (Slice of the second row)\n",
        "row_slice = tensor[:, 1, :]\n",
        "print(\"\\\\now Slice:\")\n",
        "print (row_slice)\n",
        "print (\"Row Slice Shape:\", row_slice.shape)\n",
        "\n"
      ],
      "metadata": {
        "colab": {
          "base_uri": "https://localhost:8080/"
        },
        "id": "GY0chQy3uXBQ",
        "outputId": "ea4bdaac-fcb7-4b6f-a7a5-5a297dc2cced"
      },
      "execution_count": null,
      "outputs": [
        {
          "output_type": "stream",
          "name": "stdout",
          "text": [
            "\\now Slice:\n",
            "tensor([[ 4,  5,  6],\n",
            "        [13, 14, 15]])\n",
            "Row Slice Shape: torch.Size([2, 3])\n"
          ]
        }
      ]
    },
    {
      "cell_type": "markdown",
      "source": [
        "### Column Slice (Slice of the third column)"
      ],
      "metadata": {
        "id": "yPSqTtguui-0"
      }
    },
    {
      "cell_type": "code",
      "source": [
        "# Column Slice (Slice of the third column)\n",
        "column_slice = tensor[:,:, 2]\n",
        "print (\"\\\\nColumn Slice:\")\n",
        "print(column_slice)\n",
        "print (\"Column Slice Shape:\", column_slice.shape)\n"
      ],
      "metadata": {
        "colab": {
          "base_uri": "https://localhost:8080/"
        },
        "id": "TJ99d0Y1uo8q",
        "outputId": "3983e4ef-ce64-479b-c573-c6f1fda3e81e"
      },
      "execution_count": null,
      "outputs": [
        {
          "output_type": "stream",
          "name": "stdout",
          "text": [
            "\\nColumn Slice:\n",
            "tensor([[ 3,  6,  9],\n",
            "        [12, 15, 18]])\n",
            "Column Slice Shape: torch.Size([2, 3])\n"
          ]
        }
      ]
    },
    {
      "cell_type": "markdown",
      "source": [
        "### Mixed Slice"
      ],
      "metadata": {
        "id": "AoV5FGayusZV"
      }
    },
    {
      "cell_type": "code",
      "source": [
        "# Mixed Slice (Mixed slice of rows and columns)\n",
        "mixed_slice = tensor[:, 0:2, 1:3]\n",
        "print(\"\\\\nMixed Slice:\")\n",
        "print (mixed_slice)\n",
        "print(\"Mixed Slice Shape:\", mixed_slice.shape)\n",
        "\n"
      ],
      "metadata": {
        "colab": {
          "base_uri": "https://localhost:8080/"
        },
        "id": "gopWgt3fuzmB",
        "outputId": "a1eb1220-aab6-4747-b849-1131e3a5413a"
      },
      "execution_count": null,
      "outputs": [
        {
          "output_type": "stream",
          "name": "stdout",
          "text": [
            "\\nMixed Slice:\n",
            "tensor([[[ 2,  3],\n",
            "         [ 5,  6]],\n",
            "\n",
            "        [[11, 12],\n",
            "         [14, 15]]])\n",
            "Mixed Slice Shape: torch.Size([2, 2, 2])\n"
          ]
        }
      ]
    },
    {
      "cell_type": "markdown",
      "source": [
        "## Reshaping and View in Tensors"
      ],
      "metadata": {
        "id": "0wOw7cR9xCDd"
      }
    },
    {
      "cell_type": "code",
      "source": [
        "# Create a contiguous 2D tensor\n",
        "tensor = torch. tensor([\n",
        "\t[1, 2, 3],\n",
        "\t[4, 5, 6]\n",
        "])\n",
        "# Reshape the tensor using view\n",
        "reshaped_tensor = tensor.view(3, 2)\n",
        "print(\"Original Tensor:\")\n",
        "print (tensor)\n",
        "print (\"\\\\nReshaped Tensor:\")\n",
        "print (reshaped_tensor)\n",
        "\n"
      ],
      "metadata": {
        "colab": {
          "base_uri": "https://localhost:8080/"
        },
        "id": "ZDd5G7LOxI7E",
        "outputId": "86e3a502-af1a-42e1-d357-c2343fb7f13c"
      },
      "execution_count": null,
      "outputs": [
        {
          "output_type": "stream",
          "name": "stdout",
          "text": [
            "Original Tensor:\n",
            "tensor([[1, 2, 3],\n",
            "        [4, 5, 6]])\n",
            "\\nReshaped Tensor:\n",
            "tensor([[1, 2],\n",
            "        [3, 4],\n",
            "        [5, 6]])\n"
          ]
        }
      ]
    },
    {
      "cell_type": "code",
      "source": [
        "import torch\n",
        "# Create a non-contiguous 2D tensor using slicing\n",
        "tensor = torch. tensor([[1, 2, 3, 4, 5, 6]])\n",
        "sliced_tensor = tensor[:, :3]\n",
        "# Reshape the tensor using reshape\n",
        "reshaped_tensor = torch.reshape(sliced_tensor, (1, 3))\n",
        "print (\"Original Tensor:\")\n",
        "print (sliced_tensor)\n",
        "print(\"\\\\nReshaped Tensor:\")\n",
        "print (reshaped_tensor)\n",
        "\n"
      ],
      "metadata": {
        "colab": {
          "base_uri": "https://localhost:8080/"
        },
        "id": "HrDc9ZuvxZNQ",
        "outputId": "6705add7-e0ab-4208-bcb8-c845e10aeb05"
      },
      "execution_count": null,
      "outputs": [
        {
          "output_type": "stream",
          "name": "stdout",
          "text": [
            "Original Tensor:\n",
            "tensor([[1, 2, 3]])\n",
            "\\nReshaped Tensor:\n",
            "tensor([[1, 2, 3]])\n"
          ]
        }
      ]
    },
    {
      "cell_type": "markdown",
      "source": [
        "## The -1 trick in view()"
      ],
      "metadata": {
        "id": "zRQJsMSZxiFA"
      }
    },
    {
      "cell_type": "code",
      "source": [
        "import torch\n",
        "# Create a tensor with size (2, 4)\n",
        "tensor = torch. tensor([\n",
        "\t[1, 2, 3, 4],\n",
        "\t[5, 6, 7, 8]\n",
        "])\n",
        "# Reshape the tensor using view and -1 trick\n",
        "reshaped_tensor = tensor.view(-1, 2)\n",
        "print(\"Original Tensor:\")\n",
        "print (tensor)\n",
        "print (\"\\\\nReshaped Tensor:\")\n",
        "print (reshaped_tensor)\n"
      ],
      "metadata": {
        "colab": {
          "base_uri": "https://localhost:8080/"
        },
        "id": "cAfkbskgxnc0",
        "outputId": "6bd44582-a3fb-407b-832f-7d0b0867b36a"
      },
      "execution_count": null,
      "outputs": [
        {
          "output_type": "stream",
          "name": "stdout",
          "text": [
            "Original Tensor:\n",
            "tensor([[1, 2, 3, 4],\n",
            "        [5, 6, 7, 8]])\n",
            "\\nReshaped Tensor:\n",
            "tensor([[1, 2],\n",
            "        [3, 4],\n",
            "        [5, 6],\n",
            "        [7, 8]])\n"
          ]
        }
      ]
    },
    {
      "cell_type": "code",
      "source": [
        "a= torch.ones(2,3,4)\n",
        "b= a.view(1,4,-1)\n",
        "print(b.shape)"
      ],
      "metadata": {
        "colab": {
          "base_uri": "https://localhost:8080/"
        },
        "id": "62ZcRavgYlZe",
        "outputId": "fe59b917-4460-4249-f7f5-b3c6320080a7"
      },
      "execution_count": null,
      "outputs": [
        {
          "output_type": "stream",
          "name": "stdout",
          "text": [
            "torch.Size([1, 4, 6])\n"
          ]
        }
      ]
    },
    {
      "cell_type": "markdown",
      "source": [
        "## Gradient calculation with Tensors"
      ],
      "metadata": {
        "id": "NOSt_Fk7zKJd"
      }
    },
    {
      "cell_type": "code",
      "source": [
        "import torch\n",
        "# Enable gradient tracking\n",
        "x = torch.tensor(3.0, requires_grad=True)\n",
        "# Perform operations on the tensor\n",
        "y = 2 * x + 1\n",
        "z = y ** 2\n",
        "# Compute gradients\n",
        "z.backward()\n",
        "# Access the computed gradients\n",
        "x_grad = x.grad\n",
        "\n",
        "print(x_grad)"
      ],
      "metadata": {
        "id": "FySgkdiAzNXB",
        "colab": {
          "base_uri": "https://localhost:8080/"
        },
        "outputId": "d178539e-e4d4-47a7-f4c4-73f287768f73"
      },
      "execution_count": null,
      "outputs": [
        {
          "output_type": "stream",
          "name": "stdout",
          "text": [
            "tensor(28.)\n"
          ]
        }
      ]
    },
    {
      "cell_type": "markdown",
      "source": [
        "## Detaching and no grad()"
      ],
      "metadata": {
        "id": "dZPM53mUzZWL"
      }
    },
    {
      "cell_type": "code",
      "source": [
        "import torch\n",
        "# Create a tensor with tracking enabled\n",
        "x = torch.tensor([3.0], requires_grad=True)\n",
        "# Perform operations on the tensor\n",
        "y = x**2 + 2*x + 1\n",
        "# Stop tracking gradients using detach()\n",
        "z = y.detach()\n",
        "# Perform further operations without tracking\n",
        "with torch.no_grad() :\n",
        "  w = z * 2\n",
        "print(w)\n",
        "\n"
      ],
      "metadata": {
        "colab": {
          "base_uri": "https://localhost:8080/"
        },
        "id": "PWx3fNy2zgYV",
        "outputId": "7287d19a-4c94-478a-d587-0ad79392dabf"
      },
      "execution_count": null,
      "outputs": [
        {
          "output_type": "stream",
          "name": "stdout",
          "text": [
            "tensor([32.])\n"
          ]
        }
      ]
    }
  ]
}